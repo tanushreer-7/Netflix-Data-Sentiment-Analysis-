{
  "nbformat": 4,
  "nbformat_minor": 0,
  "metadata": {
    "colab": {
      "provenance": [],
      "include_colab_link": true
    },
    "kernelspec": {
      "name": "python3",
      "display_name": "Python 3"
    },
    "language_info": {
      "name": "python"
    }
  },
  "cells": [
    {
      "cell_type": "markdown",
      "metadata": {
        "id": "view-in-github",
        "colab_type": "text"
      },
      "source": [
        "<a href=\"https://colab.research.google.com/github/tanushreer-7/Netflix-Data-Sentimental-Analysis-/blob/main/NETFLIX_DATA_SENTIMENT_ANALYSIS.ipynb\" target=\"_parent\"><img src=\"https://colab.research.google.com/assets/colab-badge.svg\" alt=\"Open In Colab\"/></a>"
      ]
    },
    {
      "cell_type": "markdown",
      "source": [
        "**STEP-1: IMPORTING NECESSARY PACKAGES**"
      ],
      "metadata": {
        "id": "bJPoT8-F92H-"
      }
    },
    {
      "cell_type": "code",
      "execution_count": 15,
      "metadata": {
        "id": "Ji39p_gyeIGH_upgraded"
      },
      "outputs": [],
      "source": [
        "import pandas as pd\n",
        "import numpy as np\n",
        "import matplotlib.pyplot as plt\n",
        "import seaborn as sns\n",
        "import re # For regular expressions (text cleaning)\n",
        "import nltk\n",
        "from nltk.corpus import stopwords\n",
        "from nltk.stem import PorterStemmer # Optional: for stemming\n",
        "\n",
        "from sklearn.model_selection import train_test_split\n",
        "from sklearn.preprocessing import LabelEncoder\n",
        "from sklearn.feature_extraction.text import TfidfVectorizer\n",
        "from sklearn.naive_bayes import MultinomialNB # Better for text features\n",
        "from sklearn.metrics import accuracy_score, classification_report, confusion_matrix\n",
        "\n",
        "# Download stopwords if you haven't already\n",
        "try:\n",
        "    stopwords.words('english')\n",
        "except LookupError:\n",
        "    nltk.download('stopwords')"
      ]
    },
    {
      "cell_type": "markdown",
      "source": [
        "**STEP-2: READING THE NETFLIX DATASET**"
      ],
      "metadata": {
        "id": "3GarPvzg98YW"
      }
    },
    {
      "cell_type": "code",
      "source": [
        "netflix_df = pd.read_csv('netflix_reviews.csv')\n",
        "print(\"Dataset loaded successfully:\")\n",
        "print(netflix_df.head())\n",
        "print(f\"\\nDataset shape: {netflix_df.shape}\")"
      ],
      "metadata": {
        "id": "uVvHyodykHJQ_upgraded",
        "colab": {
          "base_uri": "https://localhost:8080/"
        },
        "outputId": "54a649ed-973f-448e-c8a3-8805779ec37b"
      },
      "execution_count": 16,
      "outputs": [
        {
          "output_type": "stream",
          "name": "stdout",
          "text": [
            "Dataset loaded successfully:\n",
            "                               reviewId               userName  \\\n",
            "0  2487372e-d1ce-49b9-83a7-ed405a2911c1             QueenyTech   \n",
            "1  7f278d2c-00fe-4295-9f5b-43ccdb370e79  Paresh Dalbehera (PD)   \n",
            "2  42664618-3fe5-4128-af69-5012e69f4a54               Reta Ali   \n",
            "3  93b3ec35-7931-4441-9920-35547c6f1584                  Jogre   \n",
            "4  96cbd996-c5d5-4e23-b011-6799254ac039          Auralia Rorke   \n",
            "\n",
            "                                             content  score  thumbsUpCount  \\\n",
            "0  Trash, it made me change my password because I...    1.0            0.0   \n",
            "1                             I love Netflix only ❤️    5.0            0.0   \n",
            "2  it's the best but pls bring back the society s...    5.0            0.0   \n",
            "3  When you fold your Galaxy Fold 6, it forces Ne...    2.0            0.0   \n",
            "4                                               Good    4.0            0.0   \n",
            "\n",
            "  reviewCreatedVersion                   at           appVersion  \n",
            "0    5.1.2 build 17106  2025-03-01 14:50:57    5.1.2 build 17106  \n",
            "1  9.4.1 build 4 62196  2025-03-01 14:46:52  9.4.1 build 4 62196  \n",
            "2  9.3.0 build 4 62124  2025-03-01 14:28:59  9.3.0 build 4 62124  \n",
            "3  9.4.1 build 4 62196  2025-03-01 14:21:10  9.4.1 build 4 62196  \n",
            "4  9.4.1 build 4 62196  2025-03-01 14:12:16  9.4.1 build 4 62196  \n",
            "\n",
            "Dataset shape: (74256, 8)\n"
          ]
        }
      ]
    },
    {
      "cell_type": "markdown",
      "source": [
        "**STEP-3: PRE-PROCESSING THE DATASET**"
      ],
      "metadata": {
        "id": "_EUiuIo1NZns_upgraded"
      }
    },
    {
      "cell_type": "code",
      "source": [
        "if not netflix_df.empty:\n",
        "    print(\"Missing values before handling:\")\n",
        "    print(netflix_df.isnull().sum())\n",
        "    netflix_df = netflix_df.drop(['reviewId', 'reviewCreatedVersion', 'appVersion', 'at'], axis=1)\n",
        "    netflix_df['userName'].fillna('Unknown', inplace=True)\n",
        "    netflix_df.dropna(subset=['content'], inplace=True)\n",
        "\n",
        "    print(\"\\nMissing values after handling:\")\n",
        "    print(netflix_df.isnull().sum())\n",
        "    print(f\"\\nDataset shape after dropping rows with missing content: {netflix_df.shape}\")\n",
        "    print(\"\\nCleaned DataFrame head:\")\n",
        "    print(netflix_df.head())"
      ],
      "metadata": {
        "id": "qu9WYEv7lZgx_upgraded",
        "colab": {
          "base_uri": "https://localhost:8080/"
        },
        "outputId": "f5fb2c6a-15da-4899-c1c6-51c05d86a449"
      },
      "execution_count": 17,
      "outputs": [
        {
          "output_type": "stream",
          "name": "stdout",
          "text": [
            "Missing values before handling:\n",
            "reviewId                    0\n",
            "userName                    2\n",
            "content                     5\n",
            "score                       1\n",
            "thumbsUpCount               1\n",
            "reviewCreatedVersion    11934\n",
            "at                          1\n",
            "appVersion              11934\n",
            "dtype: int64\n",
            "\n",
            "Missing values after handling:\n",
            "userName         0\n",
            "content          0\n",
            "score            1\n",
            "thumbsUpCount    1\n",
            "dtype: int64\n",
            "\n",
            "Dataset shape after dropping rows with missing content: (74251, 4)\n",
            "\n",
            "Cleaned DataFrame head:\n",
            "                userName                                            content  \\\n",
            "0             QueenyTech  Trash, it made me change my password because I...   \n",
            "1  Paresh Dalbehera (PD)                             I love Netflix only ❤️   \n",
            "2               Reta Ali  it's the best but pls bring back the society s...   \n",
            "3                  Jogre  When you fold your Galaxy Fold 6, it forces Ne...   \n",
            "4          Auralia Rorke                                               Good   \n",
            "\n",
            "   score  thumbsUpCount  \n",
            "0    1.0            0.0  \n",
            "1    5.0            0.0  \n",
            "2    5.0            0.0  \n",
            "3    2.0            0.0  \n",
            "4    4.0            0.0  \n"
          ]
        },
        {
          "output_type": "stream",
          "name": "stderr",
          "text": [
            "<ipython-input-17-259ca0c9a370>:5: FutureWarning: A value is trying to be set on a copy of a DataFrame or Series through chained assignment using an inplace method.\n",
            "The behavior will change in pandas 3.0. This inplace method will never work because the intermediate object on which we are setting values always behaves as a copy.\n",
            "\n",
            "For example, when doing 'df[col].method(value, inplace=True)', try using 'df.method({col: value}, inplace=True)' or df[col] = df[col].method(value) instead, to perform the operation inplace on the original object.\n",
            "\n",
            "\n",
            "  netflix_df['userName'].fillna('Unknown', inplace=True)\n"
          ]
        }
      ]
    },
    {
      "cell_type": "markdown",
      "source": [
        "**STEP-4: DEFINE SENTIMENT BASED ON SCORE**\n",
        "\n",
        "The sentiment will be our target variable. We derive it from the 'score'."
      ],
      "metadata": {
        "id": "assign_sentiment_md_upgraded"
      }
    },
    {
      "cell_type": "code",
      "source": [
        "if not netflix_df.empty:\n",
        "    def assign_sentiment(score):\n",
        "        if score >= 4:\n",
        "            return 'Positive'\n",
        "        elif score == 3:\n",
        "            return 'Neutral'\n",
        "        else:\n",
        "            return 'Negative'\n",
        "\n",
        "    netflix_df['sentiment'] = netflix_df['score'].apply(assign_sentiment)\n",
        "    print(\"\\nDataFrame with 'sentiment' column:\")\n",
        "    print(netflix_df[['score', 'sentiment']].head())"
      ],
      "metadata": {
        "id": "assign_sentiment_code_upgraded",
        "colab": {
          "base_uri": "https://localhost:8080/"
        },
        "outputId": "81060b86-19bc-45d7-a144-e2088f722a8b"
      },
      "execution_count": 18,
      "outputs": [
        {
          "output_type": "stream",
          "name": "stdout",
          "text": [
            "\n",
            "DataFrame with 'sentiment' column:\n",
            "   score sentiment\n",
            "0    1.0  Negative\n",
            "1    5.0  Positive\n",
            "2    5.0  Positive\n",
            "3    2.0  Negative\n",
            "4    4.0  Positive\n"
          ]
        }
      ]
    },
    {
      "cell_type": "markdown",
      "source": [
        "**STEP-5: EXPLORATORY DATA ANALYSIS (EDA)**"
      ],
      "metadata": {
        "id": "Wlqz97UDNwQp"
      }
    },
    {
      "cell_type": "code",
      "source": [
        "if not netflix_df.empty:\n",
        "    plt.figure(figsize=(8, 5))\n",
        "    sns.histplot(netflix_df['score'], bins=5, kde=False, color='skyblue')\n",
        "    plt.title(\"Distribution of Review Scores\")\n",
        "    plt.xlabel(\"Score\")\n",
        "    plt.ylabel(\"Number of Reviews\")\n",
        "    plt.show()\n",
        "\n",
        "    plt.figure(figsize=(8, 5))\n",
        "    sns.countplot(x='sentiment', data=netflix_df, order=['Positive', 'Neutral', 'Negative'], palette={'Positive': 'green', 'Neutral': 'blue', 'Negative': 'red'})\n",
        "    plt.title(\"Distribution of Sentiments\")\n",
        "    plt.xlabel(\"Sentiment\")\n",
        "    plt.ylabel(\"Number of Reviews\")\n",
        "    plt.show()\n",
        "\n",
        "    print(\"\\nSentiment counts:\")\n",
        "    print(netflix_df['sentiment'].value_counts())"
      ],
      "metadata": {
        "id": "fL0GWxarKjMh_upgraded",
        "colab": {
          "base_uri": "https://localhost:8080/",
          "height": 1000
        },
        "outputId": "820a6301-f698-45c1-ab70-0df523cde284"
      },
      "execution_count": 19,
      "outputs": [
        {
          "output_type": "display_data",
          "data": {
            "text/plain": [
              "<Figure size 800x500 with 1 Axes>"
            ],
            "image/png": "[encoded data removed]"
          },
          "metadata": {}
        },
        {
          "output_type": "stream",
          "name": "stderr",
          "text": [
            "<ipython-input-19-70ff88001e0d>:10: FutureWarning: \n",
            "\n",
            "Passing `palette` without assigning `hue` is deprecated and will be removed in v0.14.0. Assign the `x` variable to `hue` and set `legend=False` for the same effect.\n",
            "\n",
            "  sns.countplot(x='sentiment', data=netflix_df, order=['Positive', 'Neutral', 'Negative'], palette={'Positive': 'green', 'Neutral': 'blue', 'Negative': 'red'})\n"
          ]
        },
        {
          "output_type": "display_data",
          "data": {
            "text/plain": [
              "<Figure size 800x500 with 1 Axes>"
            ],
            "image/png": "[encoded data removed]"
          },
          "metadata": {}
        },
        {
          "output_type": "stream",
          "name": "stdout",
          "text": [
            "\n",
            "Sentiment counts:\n",
            "sentiment\n",
            "Negative    39755\n",
            "Positive    26622\n",
            "Neutral      7874\n",
            "Name: count, dtype: int64\n"
          ]
        }
      ]
    },
    {
      "cell_type": "markdown",
      "source": [
        "**STEP-6: TEXT PREPROCESSING FOR 'content' COLUMN**\n",
        "\n",
        "This is a crucial step for preparing text data for machine learning."
      ],
      "metadata": {
        "id": "text_preprocess_md_upgraded"
      }
    },
    {
      "cell_type": "code",
      "source": [
        "if not netflix_df.empty:\n",
        "    stop_words = set(stopwords.words('english'))\n",
        "\n",
        "    def preprocess_text(text):\n",
        "        text = text.lower()\n",
        "        text = re.sub(r'[^a-z\\s]', '', text)\n",
        "        words = text.split()\n",
        "        words = [word for word in words if word not in stop_words]\n",
        "        return ' '.join(words)\n",
        "\n",
        "    print(\"\\nStarting text preprocessing...\")\n",
        "    netflix_df['processed_content'] = netflix_df['content'].apply(preprocess_text)\n",
        "    print(\"Text preprocessing complete.\")\n",
        "    print(\"\\nDataFrame with 'processed_content':\")\n",
        "    print(netflix_df[['content', 'processed_content']].head())"
      ],
      "metadata": {
        "id": "text_preprocess_code_upgraded",
        "colab": {
          "base_uri": "https://localhost:8080/"
        },
        "outputId": "82e50def-5be3-4a9c-91cf-ab0a66658dba"
      },
      "execution_count": 20,
      "outputs": [
        {
          "output_type": "stream",
          "name": "stdout",
          "text": [
            "\n",
            "Starting text preprocessing...\n",
            "Text preprocessing complete.\n",
            "\n",
            "DataFrame with 'processed_content':\n",
            "                                             content  \\\n",
            "0  Trash, it made me change my password because I...   \n",
            "1                             I love Netflix only ❤️   \n",
            "2  it's the best but pls bring back the society s...   \n",
            "3  When you fold your Galaxy Fold 6, it forces Ne...   \n",
            "4                                               Good   \n",
            "\n",
            "                                   processed_content  \n",
            "0  trash made change password thought wrong chang...  \n",
            "1                                       love netflix  \n",
            "2  best pls bring back society season us interest...  \n",
            "3  fold galaxy fold forces netflix use top half s...  \n",
            "4                                               good  \n"
          ]
        }
      ]
    },
    {
      "cell_type": "markdown",
      "source": [
        "**STEP-7: FEATURE EXTRACTION (TF-IDF) AND LABEL ENCODING**"
      ],
      "metadata": {
        "id": "tfidf_le_md_upgraded"
      }
    },
    {
      "cell_type": "code",
      "source": [
        "if not netflix_df.empty:\n",
        "\n",
        "    tfidf_vectorizer = TfidfVectorizer(max_features=5000) # Limit to top 5000 features for efficiency\n",
        "    X_text_features = tfidf_vectorizer.fit_transform(netflix_df['processed_content'])\n",
        "    print(f\"\\nShape of TF-IDF features: {X_text_features.shape}\")\n",
        "\n",
        "    label_encoder = LabelEncoder()\n",
        "    y_encoded = label_encoder.fit_transform(netflix_df['sentiment'])\n",
        "    print(f\"\\nEncoded sentiment labels (first 5): {y_encoded[:5]}\")\n",
        "    print(f\"Sentiment classes: {label_encoder.classes_}\")\n",
        "\n",
        "    X = X_text_features\n",
        "    y = y_encoded"
      ],
      "metadata": {
        "id": "tfidf_le_code_upgraded",
        "colab": {
          "base_uri": "https://localhost:8080/"
        },
        "outputId": "b27d1320-37e1-4df7-8913-359905d4f4e2"
      },
      "execution_count": 21,
      "outputs": [
        {
          "output_type": "stream",
          "name": "stdout",
          "text": [
            "\n",
            "Shape of TF-IDF features: (74251, 5000)\n",
            "\n",
            "Encoded sentiment labels (first 5): [0 2 2 0 2]\n",
            "Sentiment classes: ['Negative' 'Neutral' 'Positive']\n"
          ]
        }
      ]
    },
    {
      "cell_type": "markdown",
      "source": [
        "**STEP-8: TRAIN AND TEST THE MODEL (USING MULTINOMIAL NAIVE BAYES)**"
      ],
      "metadata": {
        "id": "t2qmuYpCD_S6_upgraded_title"
      }
    },
    {
      "cell_type": "code",
      "source": [
        "if not netflix_df.empty and 'X' in locals() and 'y' in locals():\n",
        "    X_train, X_test, y_train, y_test = train_test_split(X, y, test_size=0.2, random_state=42, stratify=y) # stratify for imbalanced classes\n",
        "\n",
        "    print(f\"Training data shape: {X_train.shape}\")\n",
        "    print(f\"Testing data shape: {X_test.shape}\")\n",
        "\n",
        "    model = MultinomialNB()\n",
        "    model.fit(X_train, y_train)\n",
        "    y_pred = model.predict(X_test)\n",
        "    print(\"\\nModel training and prediction complete.\")\n",
        "else:\n",
        "    print(\"Skipping model training as data is not prepared (e.g., file not found or empty after processing).\")"
      ],
      "metadata": {
        "id": "qEnc6ipKECkN_upgraded_code",
        "colab": {
          "base_uri": "https://localhost:8080/"
        },
        "outputId": "9498bfd9-f4fc-429a-8a21-f519216ff6b9"
      },
      "execution_count": 22,
      "outputs": [
        {
          "output_type": "stream",
          "name": "stdout",
          "text": [
            "Training data shape: (59400, 5000)\n",
            "Testing data shape: (14851, 5000)\n",
            "\n",
            "Model training and prediction complete.\n"
          ]
        }
      ]
    },
    {
      "cell_type": "markdown",
      "source": [
        "**STEP-9: CALCULATE THE ACCURACY AND PERFORMANCE OF THE MODEL**"
      ],
      "metadata": {
        "id": "VdlgXSrZPUX9_upgraded_title"
      }
    },
    {
      "cell_type": "code",
      "source": [
        "if not netflix_df.empty and 'y_test' in locals() and 'y_pred' in locals():\n",
        "    accuracy = accuracy_score(y_test, y_pred)\n",
        "    print(f\"Model Accuracy: {accuracy:.4f}\") # Increased precision for accuracy\n",
        "    print(\"\\nClassification Report:\")\n",
        "    print(classification_report(y_test, y_pred, target_names=label_encoder.classes_))\n",
        "else:\n",
        "    print(\"Skipping model evaluation as predictions are not available.\")"
      ],
      "metadata": {
        "id": "baQGr-z1PSca_upgraded_code",
        "colab": {
          "base_uri": "https://localhost:8080/"
        },
        "outputId": "27bc451d-38a5-4f9e-aabf-72b6e08882bd"
      },
      "execution_count": 23,
      "outputs": [
        {
          "output_type": "stream",
          "name": "stdout",
          "text": [
            "Model Accuracy: 0.7619\n",
            "\n",
            "Classification Report:\n",
            "              precision    recall  f1-score   support\n",
            "\n",
            "    Negative       0.75      0.92      0.83      7951\n",
            "     Neutral       0.48      0.01      0.01      1575\n",
            "    Positive       0.78      0.75      0.76      5325\n",
            "\n",
            "    accuracy                           0.76     14851\n",
            "   macro avg       0.67      0.56      0.54     14851\n",
            "weighted avg       0.73      0.76      0.72     14851\n",
            "\n"
          ]
        }
      ]
    },
    {
      "cell_type": "markdown",
      "source": [
        "**STEP-10: DISPLAY THE CONFUSION MATRIX**"
      ],
      "metadata": {
        "id": "RKMpyPfIPcoc_upgraded_title"
      }
    },
    {
      "cell_type": "code",
      "source": [
        "if not netflix_df.empty and 'y_test' in locals() and 'y_pred' in locals():\n",
        "    cm = confusion_matrix(y_test, y_pred)\n",
        "    plt.figure(figsize=(8, 6))\n",
        "    sns.heatmap(cm, annot=True, fmt='d', cmap='Blues',\n",
        "                xticklabels=label_encoder.classes_, yticklabels=label_encoder.classes_)\n",
        "    plt.xlabel(\"Predicted Sentiment\")\n",
        "    plt.ylabel(\"Actual Sentiment\")\n",
        "    plt.title(\"Confusion Matrix for Sentiment Analysis\")\n",
        "    plt.show()\n",
        "else:\n",
        "    print(\"Skipping confusion matrix display as predictions are not available.\")"
      ],
      "metadata": {
        "id": "sqoyrKMjE3QV_upgraded_code",
        "colab": {
          "base_uri": "https://localhost:8080/",
          "height": 564
        },
        "outputId": "37fe8db9-d0aa-47fa-f956-8518f132723f"
      },
      "execution_count": 24,
      "outputs": [
        {
          "output_type": "display_data",
          "data": {
            "text/plain": [
              "<Figure size 800x600 with 2 Axes>"
            ],
            "image/png": "[encoded data removed]"
          },
          "metadata": {}
        }
      ]
    },
    {
      "cell_type": "markdown",
      "source": [
        "**STEP-11:PREDICT SENTIMENT FOR NEW REVIEWS**"
      ],
      "metadata": {
        "id": "predict_new_md_upgraded"
      }
    },
    {
      "cell_type": "code",
      "source": [
        "if not netflix_df.empty and 'model' in locals() and 'tfidf_vectorizer' in locals() and 'label_encoder' in locals():\n",
        "    def predict_sentiment_new_review(review_text):\n",
        "        processed_review = preprocess_text(review_text)\n",
        "        review_tfidf = tfidf_vectorizer.transform([processed_review])\n",
        "        prediction_encoded = model.predict(review_tfidf)\n",
        "        prediction_proba = model.predict_proba(review_tfidf)\n",
        "        sentiment = label_encoder.inverse_transform(prediction_encoded)[0]\n",
        "\n",
        "        formatted_probabilities = {\n",
        "            label: f\"{prob:.4f}\"\n",
        "            for label, prob in zip(label_encoder.classes_, prediction_proba[0])\n",
        "        }\n",
        "\n",
        "        print(f\"Review: '{review_text}'\")\n",
        "        print(f\"Processed: '{processed_review}'\")\n",
        "        print(f\"Predicted Sentiment: {sentiment}\")\n",
        "        print(f\"Probabilities: {formatted_probabilities}\")\n",
        "        return sentiment\n",
        "\n",
        "    print(\"\\n--- Testing with new reviews ---\")\n",
        "    predict_sentiment_new_review(\"This is the best movie I have ever seen! Absolutely fantastic.\")\n",
        "    print(\"\\n\")\n",
        "    predict_sentiment_new_review(\"The show was okay, not great but not terrible either.\")\n",
        "    print(\"\\n\")\n",
        "    predict_sentiment_new_review(\"I hated this. It was a complete waste of my time and money.\")\n",
        "else:\n",
        "    print(\"Skipping new review prediction as model/vectorizer/encoder is not trained/available.\")"
      ],
      "metadata": {
        "colab": {
          "base_uri": "https://localhost:8080/"
        },
        "id": "RuKixbx-6Phe",
        "outputId": "b12bc697-d3fa-44f3-b5fc-22de1ca25a27"
      },
      "execution_count": 25,
      "outputs": [
        {
          "output_type": "stream",
          "name": "stdout",
          "text": [
            "\n",
            "--- Testing with new reviews ---\n",
            "Review: 'This is the best movie I have ever seen! Absolutely fantastic.'\n",
            "Processed: 'best movie ever seen absolutely fantastic'\n",
            "Predicted Sentiment: Positive\n",
            "Probabilities: {'Negative': '0.0536', 'Neutral': '0.0183', 'Positive': '0.9281'}\n",
            "\n",
            "\n",
            "Review: 'The show was okay, not great but not terrible either.'\n",
            "Processed: 'show okay great terrible either'\n",
            "Predicted Sentiment: Negative\n",
            "Probabilities: {'Negative': '0.5783', 'Neutral': '0.1606', 'Positive': '0.2611'}\n",
            "\n",
            "\n",
            "Review: 'I hated this. It was a complete waste of my time and money.'\n",
            "Processed: 'hated complete waste time money'\n",
            "Predicted Sentiment: Negative\n",
            "Probabilities: {'Negative': '0.8439', 'Neutral': '0.0503', 'Positive': '0.1058'}\n"
          ]
        }
      ]
    }
  ]
}